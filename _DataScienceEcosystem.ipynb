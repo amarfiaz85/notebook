{
 "cells": [
  {
   "cell_type": "markdown",
   "id": "e378146d-f7d3-4775-b7ed-5fd84836750f",
   "metadata": {},
   "source": [
    "<h1>Data Science Tools and Ecosystem</h1>"
   ]
  },
  {
   "cell_type": "markdown",
   "id": "47cb5712-e6ad-4b27-9024-7910ab472d8b",
   "metadata": {},
   "source": [
    "In this notebook, Data Science Tools and Ecosystem are summarized."
   ]
  },
  {
   "cell_type": "markdown",
   "id": "7c6f4d6f-a4d4-44bc-8eaf-898b0c5dd996",
   "metadata": {},
   "source": [
    "**Objectives:**\n",
    "\n",
    "- List popular languages for Data Science  \n",
    "- Identify commonly used Data Science tools  \n",
    "- Describe the role of Jupyter Notebooks in data science workflows  \n",
    "- Understand key libraries used in Python and R for data analysis  \n",
    "- Demonstrate basic GitHub and Git operations\n"
   ]
  },
  {
   "cell_type": "markdown",
   "id": "c4f5e67d-d39f-43ea-9798-56b71c7ae560",
   "metadata": {},
   "source": [
    "Some of the popular languages that Data Scientists use are:\n",
    "<ol>\n",
    "    <li>Python</li>\n",
    "    <li>R</li>\n",
    "    <li>Java</li>\n",
    "</ol>"
   ]
  },
  {
   "cell_type": "markdown",
   "id": "94391045-aa0d-4707-89ec-b220773c4ebd",
   "metadata": {},
   "source": [
    "| Data Science Tools       |\n",
    "|--------------------------|\n",
    "| Jupyter Notebook         |\n",
    "| RStudio                  |\n",
    "| VS Code                  |\n"
   ]
  },
  {
   "cell_type": "markdown",
   "id": "64458c61-65c2-473f-a85d-b0bb59e954dc",
   "metadata": {},
   "source": [
    "Some of the commonly used libraries used by Data Scientists include:\n",
    "<ol>\n",
    "    <li>NumPy </li>\n",
    "    <li>Pandas </li>\n",
    "    <li>Matplotlib</li>\n",
    "</ol>\n"
   ]
  },
  {
   "cell_type": "markdown",
   "id": "d9e24c18-cd9f-407a-a0a2-1e21d7693b79",
   "metadata": {},
   "source": [
    "<h3>Below are a few examples of evaluating arithmetic expressions in Python</h3>"
   ]
  },
  {
   "cell_type": "code",
   "execution_count": 1,
   "id": "c6e94097-7807-47ed-9cd9-fdf29701de2f",
   "metadata": {},
   "outputs": [
    {
     "name": "stdout",
     "output_type": "stream",
     "text": [
      "17\n"
     ]
    }
   ],
   "source": [
    "# This a simple arithmetic expression to multiply then add integers.\n",
    "print((3*4)+5)"
   ]
  },
  {
   "cell_type": "code",
   "execution_count": 2,
   "id": "5b86b709-80a9-440a-b21a-7da10a706e18",
   "metadata": {},
   "outputs": [
    {
     "name": "stdout",
     "output_type": "stream",
     "text": [
      "3.3333333333333335\n"
     ]
    }
   ],
   "source": [
    "# This will convert 200 minutes to hours by diving by 60\n",
    "print(200/60)"
   ]
  },
  {
   "cell_type": "markdown",
   "id": "38e47c1e-8408-4446-9fbe-6c3cce0d0330",
   "metadata": {},
   "source": [
    "## Author\n",
    "\n",
    "Amar Fiaz\n"
   ]
  },
  {
   "cell_type": "code",
   "execution_count": null,
   "id": "6b454473-cfb5-49f2-bc71-b74312505a97",
   "metadata": {},
   "outputs": [],
   "source": []
  }
 ],
 "metadata": {
  "kernelspec": {
   "display_name": "Python 3 (ipykernel)",
   "language": "python",
   "name": "python3"
  },
  "language_info": {
   "codemirror_mode": {
    "name": "ipython",
    "version": 3
   },
   "file_extension": ".py",
   "mimetype": "text/x-python",
   "name": "python",
   "nbconvert_exporter": "python",
   "pygments_lexer": "ipython3",
   "version": "3.12.8"
  }
 },
 "nbformat": 4,
 "nbformat_minor": 5
}
